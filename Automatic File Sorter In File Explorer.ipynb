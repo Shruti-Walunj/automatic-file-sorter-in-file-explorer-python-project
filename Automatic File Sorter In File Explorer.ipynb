{
 "cells": [
  {
   "cell_type": "markdown",
   "id": "a9cf13b3-062f-4f94-977f-9817181d4022",
   "metadata": {},
   "source": [
    "# AUTOMATIC FILE SORTER IN FILE EXPLORER"
   ]
  },
  {
   "cell_type": "code",
   "execution_count": 3,
   "id": "ca6fb033-1e74-4e73-88a3-c5337b6598af",
   "metadata": {},
   "outputs": [],
   "source": [
    "import os, shutil"
   ]
  },
  {
   "cell_type": "code",
   "execution_count": 10,
   "id": "4873ef0d-4007-4ba2-a45c-0570b4e1dc16",
   "metadata": {},
   "outputs": [],
   "source": [
    "path = r\"C:/Users/SHRUTI WALUNJ/Desktop/Python - Jupyter Notebook (Anaconda)/\""
   ]
  },
  {
   "cell_type": "code",
   "execution_count": 15,
   "id": "3ab4804e-e596-4bd2-ad39-afe1c6cb97b4",
   "metadata": {},
   "outputs": [],
   "source": [
    "file_name = os.listdir(path)"
   ]
  },
  {
   "cell_type": "code",
   "execution_count": 21,
   "id": "ff7868ea-0768-4467-a43f-03e443c6777d",
   "metadata": {},
   "outputs": [],
   "source": [
    "folder_names = ['csv files','image files','text files']\n",
    "\n",
    "for loop in range(0,3):\n",
    "    if not os.path.exists(path + folder_names[loop]):\n",
    "        #print(path + folder_names[loop])\n",
    "        os.makedirs(path + folder_names[loop])\n",
    "\n",
    "for file in file_name:\n",
    "    if \".csv\" in file and not os.path.exists(path + \"csv files/\" + file):\n",
    "        shutil.move(path + file, path + \"csv files/\" + file)\n",
    "    elif \".jpg\" in file and not os.path.exists(path + \"image files/\" + file):\n",
    "        shutil.move(path + file, path + \"image files/\" + file)\n",
    "    elif \".txt\" in file and not os.path.exists(path + \"text files/\" + file):\n",
    "        shutil.move(path + file, path + \"text files/\" + file)"
   ]
  },
  {
   "cell_type": "code",
   "execution_count": 19,
   "id": "d4a641a7-9e7f-421a-8283-d3726b2feadd",
   "metadata": {},
   "outputs": [],
   "source": []
  },
  {
   "cell_type": "code",
   "execution_count": null,
   "id": "bf22991f-a279-4eef-872f-0fe55ab9a1c8",
   "metadata": {},
   "outputs": [],
   "source": []
  },
  {
   "cell_type": "code",
   "execution_count": null,
   "id": "52ebf887-eabf-49eb-bb01-2568eda1f60e",
   "metadata": {},
   "outputs": [],
   "source": []
  }
 ],
 "metadata": {
  "kernelspec": {
   "display_name": "Python 3 (ipykernel)",
   "language": "python",
   "name": "python3"
  },
  "language_info": {
   "codemirror_mode": {
    "name": "ipython",
    "version": 3
   },
   "file_extension": ".py",
   "mimetype": "text/x-python",
   "name": "python",
   "nbconvert_exporter": "python",
   "pygments_lexer": "ipython3",
   "version": "3.12.7"
  }
 },
 "nbformat": 4,
 "nbformat_minor": 5
}
